{
 "cells": [
  {
   "cell_type": "code",
   "execution_count": 1,
   "metadata": {
    "collapsed": true
   },
   "outputs": [],
   "source": [
    "try:\n",
    "    sc.stop()\n",
    "except:\n",
    "    pass\n",
    "from pyspark import SparkContext\n",
    "\n",
    "\n",
    "sc = SparkContext(appName='ModelEvaluation').getOrCreate()\n",
    "from pyspark.sql import SparkSession\n",
    "spark = SparkSession(sparkContext = sc)\n",
    "spark.conf.set(\"spark.sql.session.timeZone\", \"UTC\")"
   ]
  },
  {
   "cell_type": "code",
   "execution_count": 6,
   "metadata": {},
   "outputs": [],
   "source": [
    "from pyspark.ml.regression import RandomForestRegressionModel\n",
    "randomForest = RandomForestRegressionModel.load('/home/dyllanjr/Solar_Irradiance_Prediction/models/Random_Forest')\n"
   ]
  },
  {
   "cell_type": "code",
   "execution_count": 9,
   "metadata": {
    "collapsed": true
   },
   "outputs": [],
   "source": [
    "from pyspark.ml.feature import VectorAssembler\n",
    "from pyspark.ml.evaluation import RegressionEvaluator"
   ]
  },
  {
   "cell_type": "code",
   "execution_count": 11,
   "metadata": {},
   "outputs": [
    {
     "name": "stdout",
     "output_type": "stream",
     "text": [
      "Test RMSE:  1527.807362271392\n",
      "Test r2:  0.8587827806769075\n"
     ]
    }
   ],
   "source": [
    "###Testing generalizability on similar region\n",
    "df = spark.read.csv(f\"hdfs://localhost:9000/solar_data/processed/Georgia_1.csv\", inferSchema=True, header=True)\n",
    "\n",
    "cols = df.columns\n",
    "cols.remove('sum(GHI)')\n",
    "\n",
    "#vectorize features\n",
    "assembler = VectorAssembler(inputCols=cols, outputCol='features')\n",
    "data = assembler.transform(df)\n",
    "\n",
    "\n",
    "evaluator = RegressionEvaluator(labelCol='sum(GHI)')\n",
    "test_preds = randomForest.transform(data)\n",
    "print(\"Test RMSE: \", evaluator.evaluate(test_preds))\n",
    "evaluator = RegressionEvaluator(labelCol='sum(GHI)', metricName='r2')\n",
    "print(\"Test r2: \", evaluator.evaluate(test_preds))"
   ]
  },
  {
   "cell_type": "code",
   "execution_count": 13,
   "metadata": {},
   "outputs": [
    {
     "name": "stdout",
     "output_type": "stream",
     "text": [
      "Test RMSE:  3344.19744749896\n",
      "Test r2:  0.34988601334393477\n"
     ]
    }
   ],
   "source": [
    "###Testing generalizability on different region\n",
    "df = spark.read.csv(f\"hdfs://localhost:9000/solar_data/processed/Arizona_1.csv\", inferSchema=True, header=True)\n",
    "\n",
    "cols = df.columns\n",
    "cols.remove('sum(GHI)')\n",
    "\n",
    "#vectorize features\n",
    "assembler = VectorAssembler(inputCols=cols, outputCol='features')\n",
    "data = assembler.transform(df)\n",
    "\n",
    "\n",
    "evaluator = RegressionEvaluator(labelCol='sum(GHI)')\n",
    "test_preds = randomForest.transform(data)\n",
    "print(\"Test RMSE: \", evaluator.evaluate(test_preds))\n",
    "evaluator = RegressionEvaluator(labelCol='sum(GHI)', metricName='r2')\n",
    "print(\"Test r2: \", evaluator.evaluate(test_preds))"
   ]
  },
  {
   "cell_type": "code",
   "execution_count": null,
   "metadata": {
    "collapsed": true
   },
   "outputs": [],
   "source": []
  }
 ],
 "metadata": {
  "kernelspec": {
   "display_name": "Python 3",
   "language": "python",
   "name": "python3"
  },
  "language_info": {
   "codemirror_mode": {
    "name": "ipython",
    "version": 3
   },
   "file_extension": ".py",
   "mimetype": "text/x-python",
   "name": "python",
   "nbconvert_exporter": "python",
   "pygments_lexer": "ipython3",
   "version": "3.6.3"
  }
 },
 "nbformat": 4,
 "nbformat_minor": 2
}
