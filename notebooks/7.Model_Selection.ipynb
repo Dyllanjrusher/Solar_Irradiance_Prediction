{
 "cells": [
  {
   "cell_type": "code",
   "execution_count": 2,
   "metadata": {
    "collapsed": true
   },
   "outputs": [],
   "source": [
    "try:\n",
    "    sc.stop()\n",
    "except:\n",
    "    pass\n",
    "from pyspark import SparkContext\n",
    "\n",
    "\n",
    "sc = SparkContext(appName='ModelSelection').getOrCreate()\n",
    "from pyspark.sql import SparkSession\n",
    "spark = SparkSession(sparkContext = sc)\n",
    "spark.conf.set(\"spark.sql.session.timeZone\", \"UTC\")"
   ]
  },
  {
   "cell_type": "code",
   "execution_count": 3,
   "metadata": {
    "collapsed": true
   },
   "outputs": [],
   "source": [
    "df = spark.read.csv(f\"hdfs://localhost:9000/solar_data/processed/Arkansas_1.csv\", inferSchema=True, header=True)"
   ]
  },
  {
   "cell_type": "code",
   "execution_count": 4,
   "metadata": {
    "collapsed": true
   },
   "outputs": [],
   "source": [
    "from pyspark.ml import Pipeline\n",
    "from pyspark.ml.regression import RandomForestRegressor, GBTRegressor\n",
    "from pyspark.ml.tuning import CrossValidator, ParamGridBuilder\n",
    "from pyspark.ml.evaluation import RegressionEvaluator\n",
    "from pyspark.ml.feature import VectorAssembler\n"
   ]
  },
  {
   "cell_type": "code",
   "execution_count": 5,
   "metadata": {},
   "outputs": [
    {
     "data": {
      "text/html": [
       "\n",
       "            <div>\n",
       "                <p><b>SparkSession - in-memory</b></p>\n",
       "                \n",
       "        <div>\n",
       "            <p><b>SparkContext</b></p>\n",
       "\n",
       "            <p><a href=\"http://10.0.2.15:4040\">Spark UI</a></p>\n",
       "\n",
       "            <dl>\n",
       "              <dt>Version</dt>\n",
       "                <dd><code>v2.4.3</code></dd>\n",
       "              <dt>Master</dt>\n",
       "                <dd><code>local[*]</code></dd>\n",
       "              <dt>AppName</dt>\n",
       "                <dd><code>ModelSelection</code></dd>\n",
       "            </dl>\n",
       "        </div>\n",
       "        \n",
       "            </div>\n",
       "        "
      ],
      "text/plain": [
       "<pyspark.sql.session.SparkSession at 0x7f95eac5ff28>"
      ]
     },
     "execution_count": 5,
     "metadata": {},
     "output_type": "execute_result"
    }
   ],
   "source": [
    "spark"
   ]
  },
  {
   "cell_type": "code",
   "execution_count": 6,
   "metadata": {},
   "outputs": [],
   "source": [
    "###Random Forest Regressor\n",
    "cols = df.columns\n",
    "cols.remove('sum(GHI)')\n",
    "\n",
    "#vectorize features\n",
    "assembler = VectorAssembler(inputCols=cols, outputCol='features')\n",
    "data = assembler.transform(df)\n",
    "\n",
    "#train/test split\n",
    "train, test = data.randomSplit([.8, .2])\n",
    "\n",
    "##Configuring ML pipeline (might use format later)\n",
    "rf = RandomForestRegressor(featuresCol='features', labelCol='sum(GHI)')\n",
    "pipeline = Pipeline(stages=[rf])\n",
    "\n",
    "\n",
    "paramGrid = (ParamGridBuilder()\n",
    "                 .addGrid(rf.numTrees, [5, 10, 48]) #Extremely buggy, couldn't tune too many params\n",
    "                 .build())\n",
    "\n",
    "crossval = CrossValidator(estimator=pipeline,\n",
    "                         estimatorParamMaps=paramGrid,\n",
    "                         evaluator=RegressionEvaluator(labelCol='sum(GHI)'),\n",
    "                         numFolds=3)\n",
    "\n",
    "rfmodel = crossval.fit(train)\n"
   ]
  },
  {
   "cell_type": "code",
   "execution_count": 7,
   "metadata": {
    "collapsed": true
   },
   "outputs": [],
   "source": [
    "rf1 = rfmodel.bestModel.stages[0] "
   ]
  },
  {
   "cell_type": "code",
   "execution_count": 8,
   "metadata": {
    "collapsed": true
   },
   "outputs": [],
   "source": [
    "rf1.save(\"/home/dyllanjr/Solar_Irradiance_Prediction/models/Random_Forest\")"
   ]
  },
  {
   "cell_type": "code",
   "execution_count": 9,
   "metadata": {},
   "outputs": [
    {
     "name": "stdout",
     "output_type": "stream",
     "text": [
      "Train RMSE:  1312.3685013328789\n",
      "Train r2:  0.9097137847533137\n"
     ]
    }
   ],
   "source": [
    "evaluator = RegressionEvaluator(labelCol='sum(GHI)')\n",
    "train_preds = rf1.transform(train)\n",
    "print(\"Train RMSE: \", evaluator.evaluate(train_preds))\n",
    "evaluator = RegressionEvaluator(labelCol='sum(GHI)', metricName='r2')\n",
    "print(\"Train r2: \", evaluator.evaluate(train_preds))"
   ]
  },
  {
   "cell_type": "code",
   "execution_count": 10,
   "metadata": {},
   "outputs": [
    {
     "name": "stdout",
     "output_type": "stream",
     "text": [
      "Test RMSE:  1359.0105543262655\n",
      "Test r2:  0.9043913763361462\n"
     ]
    }
   ],
   "source": [
    "evaluator = RegressionEvaluator(labelCol='sum(GHI)')\n",
    "test_preds = rf1.transform(test)\n",
    "print(\"Test RMSE: \", evaluator.evaluate(test_preds))\n",
    "evaluator = RegressionEvaluator(labelCol='sum(GHI)', metricName='r2')\n",
    "print(\"Test r2: \", evaluator.evaluate(test_preds))"
   ]
  },
  {
   "cell_type": "code",
   "execution_count": 13,
   "metadata": {},
   "outputs": [],
   "source": [
    "###Gradient Boosted Tree Regressor\n",
    "cols = df.columns\n",
    "cols.remove('sum(GHI)')\n",
    "\n",
    "#vectorize features\n",
    "assembler = VectorAssembler(inputCols=cols, outputCol='features')\n",
    "data = assembler.transform(df)\n",
    "\n",
    "#train/test split\n",
    "train, test = data.randomSplit([.8, .2])\n",
    "\n",
    "##Configuring ML pipeline (might use format later)\n",
    "gbf = GBTRegressor(featuresCol='features', labelCol='sum(GHI)')\n",
    "pipeline = Pipeline(stages=[gbf])\n",
    "\n",
    "\n",
    "paramGrid = (ParamGridBuilder()\n",
    "                 .addGrid(gbf.maxDepth, [5, 10, 15])\n",
    "                 .build())\n",
    "\n",
    "crossval = CrossValidator(estimator=pipeline,\n",
    "                         estimatorParamMaps=paramGrid,\n",
    "                         evaluator=RegressionEvaluator(labelCol='sum(GHI)'),\n",
    "                         numFolds=3)\n",
    "\n",
    "gbfmodel = crossval.fit(train)"
   ]
  },
  {
   "cell_type": "code",
   "execution_count": 14,
   "metadata": {
    "collapsed": true
   },
   "outputs": [],
   "source": [
    "gbf1 = gbfmodel.bestModel.stages[0] \n",
    "gbf1.save(\"/home/dyllanjr/Solar_Irradiance_Prediction/models/Gradient_Boosted\")"
   ]
  },
  {
   "cell_type": "code",
   "execution_count": 15,
   "metadata": {},
   "outputs": [
    {
     "name": "stdout",
     "output_type": "stream",
     "text": [
      "Train RMSE:  1042.9539560552705\n",
      "Train r2:  0.9430340956812803\n"
     ]
    }
   ],
   "source": [
    "evaluator = RegressionEvaluator(labelCol='sum(GHI)')\n",
    "train_preds = gbf1.transform(train)\n",
    "print(\"Train RMSE: \", evaluator.evaluate(train_preds))\n",
    "evaluator = RegressionEvaluator(labelCol='sum(GHI)', metricName='r2')\n",
    "print(\"Train r2: \", evaluator.evaluate(train_preds))"
   ]
  },
  {
   "cell_type": "code",
   "execution_count": 16,
   "metadata": {},
   "outputs": [
    {
     "name": "stdout",
     "output_type": "stream",
     "text": [
      "Test RMSE:  1372.364667046965\n",
      "Test r2:  0.9020236492288102\n"
     ]
    }
   ],
   "source": [
    "evaluator = RegressionEvaluator(labelCol='sum(GHI)')\n",
    "test_preds = gbf1.transform(test)\n",
    "print(\"Test RMSE: \", evaluator.evaluate(test_preds))\n",
    "evaluator = RegressionEvaluator(labelCol='sum(GHI)', metricName='r2')\n",
    "print(\"Test r2: \", evaluator.evaluate(test_preds))"
   ]
  },
  {
   "cell_type": "code",
   "execution_count": null,
   "metadata": {
    "collapsed": true
   },
   "outputs": [],
   "source": []
  }
 ],
 "metadata": {
  "kernelspec": {
   "display_name": "Python 3",
   "language": "python",
   "name": "python3"
  },
  "language_info": {
   "codemirror_mode": {
    "name": "ipython",
    "version": 3
   },
   "file_extension": ".py",
   "mimetype": "text/x-python",
   "name": "python",
   "nbconvert_exporter": "python",
   "pygments_lexer": "ipython3",
   "version": "3.6.3"
  }
 },
 "nbformat": 4,
 "nbformat_minor": 2
}
