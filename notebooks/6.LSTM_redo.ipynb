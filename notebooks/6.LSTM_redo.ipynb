{
 "cells": [
  {
   "cell_type": "markdown",
   "metadata": {},
   "source": []
  },
  {
   "cell_type": "code",
   "execution_count": 1,
   "metadata": {},
   "outputs": [
    {
     "name": "stdout",
     "output_type": "stream",
     "text": [
      "Prepending /home/dyllanjr/anaconda3/envs/solarenv/lib/python3.6/site-packages/bigdl/share/conf/spark-bigdl.conf to sys.path\n"
     ]
    }
   ],
   "source": [
    "try:\n",
    "    sc.stop()\n",
    "except:\n",
    "    pass\n",
    "from pyspark import SparkContext\n",
    "from bigdl.util.common import *\n",
    "\n",
    "\n",
    "# create sparkcontext with bigdl configuration\n",
    "sc = SparkContext.getOrCreate(conf=create_spark_conf().setMaster(\"local[*]\"))\n",
    "from pyspark.sql import SparkSession\n",
    "spark = SparkSession(sparkContext = sc)\n",
    "spark.conf.set(\"spark.sql.session.timeZone\", \"UTC\")\n",
    "init_engine()"
   ]
  },
  {
   "cell_type": "code",
   "execution_count": 2,
   "metadata": {
    "collapsed": true
   },
   "outputs": [],
   "source": [
    "import numpy as np\n",
    "\n",
    "npzfile = np.load('/home/dyllanjr/Solar_Irradiance_Prediction/data/processed/Arkansas_look_back_48.npz')"
   ]
  },
  {
   "cell_type": "code",
   "execution_count": 3,
   "metadata": {},
   "outputs": [
    {
     "data": {
      "text/plain": [
       "['x', 'y']"
      ]
     },
     "execution_count": 3,
     "metadata": {},
     "output_type": "execute_result"
    }
   ],
   "source": [
    "npzfile.files"
   ]
  },
  {
   "cell_type": "code",
   "execution_count": 4,
   "metadata": {
    "collapsed": true
   },
   "outputs": [],
   "source": [
    "Xs = npzfile['x']\n",
    "y = npzfile['y']"
   ]
  },
  {
   "cell_type": "markdown",
   "metadata": {},
   "source": [
    "['Cloud Type',\n",
    " 'Dew Point',\n",
    " 'Fill Flag',\n",
    " 'Wind Speed',\n",
    " 'Surface Albedo',\n",
    " 'Temperature',\n",
    " 'Solar Zenith Angle',\n",
    " 'Wind Direction']"
   ]
  },
  {
   "cell_type": "code",
   "execution_count": 6,
   "metadata": {
    "collapsed": true
   },
   "outputs": [],
   "source": [
    "### I need to split my Xs into categorical and numericals\n",
    "#I'm going to just use the numerical columns first.\n",
    "cat_data = Xs[:,:,[0,2]]\n",
    "num_data = Xs[:,:,[1,3,4,5,6,7]]"
   ]
  },
  {
   "cell_type": "code",
   "execution_count": 63,
   "metadata": {},
   "outputs": [
    {
     "data": {
      "text/plain": [
       "array([[0., 0.],\n",
       "       [0., 0.],\n",
       "       [0., 0.],\n",
       "       [0., 0.],\n",
       "       [0., 0.],\n",
       "       [0., 0.],\n",
       "       [0., 0.],\n",
       "       [0., 0.],\n",
       "       [0., 0.],\n",
       "       [0., 0.],\n",
       "       [0., 0.],\n",
       "       [0., 0.],\n",
       "       [0., 0.],\n",
       "       [0., 0.],\n",
       "       [0., 0.],\n",
       "       [0., 0.],\n",
       "       [0., 0.],\n",
       "       [0., 0.],\n",
       "       [0., 0.],\n",
       "       [0., 0.],\n",
       "       [0., 0.],\n",
       "       [0., 0.],\n",
       "       [0., 0.],\n",
       "       [0., 0.],\n",
       "       [0., 0.],\n",
       "       [0., 0.],\n",
       "       [0., 0.],\n",
       "       [0., 0.],\n",
       "       [0., 0.],\n",
       "       [0., 0.],\n",
       "       [0., 0.],\n",
       "       [0., 0.],\n",
       "       [0., 0.],\n",
       "       [0., 0.],\n",
       "       [0., 0.],\n",
       "       [0., 0.],\n",
       "       [0., 0.],\n",
       "       [0., 0.],\n",
       "       [0., 0.],\n",
       "       [0., 0.],\n",
       "       [0., 0.],\n",
       "       [0., 0.],\n",
       "       [4., 0.],\n",
       "       [4., 0.],\n",
       "       [0., 0.],\n",
       "       [4., 4.],\n",
       "       [4., 0.],\n",
       "       [4., 0.]])"
      ]
     },
     "execution_count": 63,
     "metadata": {},
     "output_type": "execute_result"
    }
   ],
   "source": [
    "cat_data[0]"
   ]
  },
  {
   "cell_type": "code",
   "execution_count": 61,
   "metadata": {},
   "outputs": [
    {
     "data": {
      "text/plain": [
       "(7299, 1)"
      ]
     },
     "execution_count": 61,
     "metadata": {},
     "output_type": "execute_result"
    }
   ],
   "source": [
    "y.shape"
   ]
  },
  {
   "cell_type": "code",
   "execution_count": 8,
   "metadata": {},
   "outputs": [
    {
     "data": {
      "text/plain": [
       "array([3211], dtype=int32)"
      ]
     },
     "execution_count": 8,
     "metadata": {},
     "output_type": "execute_result"
    }
   ],
   "source": [
    "sum(y[0])"
   ]
  },
  {
   "cell_type": "code",
   "execution_count": 9,
   "metadata": {
    "collapsed": true
   },
   "outputs": [],
   "source": [
    "#I just want to predict the sum of GHI\n",
    "y = np.sum(y, axis=1)"
   ]
  },
  {
   "cell_type": "code",
   "execution_count": 10,
   "metadata": {},
   "outputs": [
    {
     "data": {
      "text/plain": [
       "array([3211])"
      ]
     },
     "execution_count": 10,
     "metadata": {},
     "output_type": "execute_result"
    }
   ],
   "source": [
    "y[0]"
   ]
  },
  {
   "cell_type": "code",
   "execution_count": 11,
   "metadata": {},
   "outputs": [
    {
     "data": {
      "text/plain": [
       "5839.200000000001"
      ]
     },
     "execution_count": 11,
     "metadata": {},
     "output_type": "execute_result"
    }
   ],
   "source": [
    "7299*.8"
   ]
  },
  {
   "cell_type": "code",
   "execution_count": 67,
   "metadata": {
    "collapsed": true
   },
   "outputs": [],
   "source": [
    "cat_data_train = cat_data[:5840]\n",
    "cat_data_test = cat_data[5840:]\n",
    "num_data_train = num_data[:5840]\n",
    "num_data_test = num_data[5840:]\n",
    "X_train = Xs[:5840]\n",
    "X_test = Xs[5840:]\n",
    "y_train = y[:5840]\n",
    "y_test = y[5840:]\n",
    "y_train = np.reshape(y_train, (y_train.shape[0], 1))\n",
    "y_test = np.reshape(y_test, ( y_test.shape[0], 1))"
   ]
  },
  {
   "cell_type": "code",
   "execution_count": 23,
   "metadata": {},
   "outputs": [
    {
     "name": "stdout",
     "output_type": "stream",
     "text": [
      "(7299, 48, 8) (7299, 48, 2) (7299, 48, 6)\n"
     ]
    }
   ],
   "source": [
    "print(Xs.shape, cat_data.shape, num_data.shape)"
   ]
  },
  {
   "cell_type": "code",
   "execution_count": 24,
   "metadata": {},
   "outputs": [
    {
     "name": "stdout",
     "output_type": "stream",
     "text": [
      "(5840, 48, 6) (5840, 1)\n"
     ]
    }
   ],
   "source": [
    "print(num_data_train.shape, y_train.shape)"
   ]
  },
  {
   "cell_type": "code",
   "execution_count": null,
   "metadata": {
    "collapsed": true
   },
   "outputs": [],
   "source": [
    "cat"
   ]
  },
  {
   "cell_type": "code",
   "execution_count": 15,
   "metadata": {
    "collapsed": true
   },
   "outputs": [],
   "source": [
    "###Numerical model only architecture\n",
    "#Adam optimizer\n",
    "#Init learning rate .001\n",
    "#max epochs 200\n",
    "#300*3 hidden lstm units\n",
    "#3 hidden layers\n",
    "# from bigdl.nn.layer import Sequential, Recurrent, LSTM, InferReshape, Select, Linear\n",
    "from bigdl.nn.keras.topology import Sequential\n",
    "from bigdl.nn.keras.layer import LSTM, Dense"
   ]
  },
  {
   "cell_type": "code",
   "execution_count": 75,
   "metadata": {},
   "outputs": [
    {
     "name": "stdout",
     "output_type": "stream",
     "text": [
      "creating: createSequential\n"
     ]
    },
    {
     "ename": "TypeError",
     "evalue": "__init__() got an unexpected keyword argument 'output_dim'",
     "output_type": "error",
     "traceback": [
      "\u001b[0;31m---------------------------------------------------------------------------\u001b[0m",
      "\u001b[0;31mTypeError\u001b[0m                                 Traceback (most recent call last)",
      "\u001b[0;32m<ipython-input-75-c424e485b750>\u001b[0m in \u001b[0;36m<module>\u001b[0;34m()\u001b[0m\n\u001b[1;32m      8\u001b[0m     \u001b[0;32mreturn\u001b[0m \u001b[0mmodel\u001b[0m\u001b[0;34m\u001b[0m\u001b[0m\n\u001b[1;32m      9\u001b[0m \u001b[0;34m\u001b[0m\u001b[0m\n\u001b[0;32m---> 10\u001b[0;31m \u001b[0mmodel\u001b[0m \u001b[0;34m=\u001b[0m \u001b[0mbuild_model\u001b[0m\u001b[0;34m(\u001b[0m\u001b[0;34m)\u001b[0m\u001b[0;34m\u001b[0m\u001b[0m\n\u001b[0m",
      "\u001b[0;32m<ipython-input-75-c424e485b750>\u001b[0m in \u001b[0;36mbuild_model\u001b[0;34m(inp_shape, hidden_size, out_size)\u001b[0m\n\u001b[1;32m      2\u001b[0m \u001b[0;34m\u001b[0m\u001b[0m\n\u001b[1;32m      3\u001b[0m     \u001b[0mmodel\u001b[0m \u001b[0;34m=\u001b[0m \u001b[0mSequential\u001b[0m\u001b[0;34m(\u001b[0m\u001b[0;34m)\u001b[0m\u001b[0;34m\u001b[0m\u001b[0m\n\u001b[0;32m----> 4\u001b[0;31m     \u001b[0mmodel\u001b[0m\u001b[0;34m.\u001b[0m\u001b[0madd\u001b[0m\u001b[0;34m(\u001b[0m\u001b[0mLSTM\u001b[0m\u001b[0;34m(\u001b[0m\u001b[0moutput_dim\u001b[0m\u001b[0;34m=\u001b[0m\u001b[0mhidden_size\u001b[0m\u001b[0;34m,\u001b[0m \u001b[0minput_shape\u001b[0m\u001b[0;34m=\u001b[0m\u001b[0minp_shape\u001b[0m\u001b[0;34m,\u001b[0m \u001b[0mreturn_sequences\u001b[0m \u001b[0;34m=\u001b[0m \u001b[0;32mTrue\u001b[0m\u001b[0;34m)\u001b[0m\u001b[0;34m)\u001b[0m\u001b[0;34m\u001b[0m\u001b[0m\n\u001b[0m\u001b[1;32m      5\u001b[0m     \u001b[0mmodel\u001b[0m\u001b[0;34m.\u001b[0m\u001b[0madd\u001b[0m\u001b[0;34m(\u001b[0m\u001b[0mLSTM\u001b[0m\u001b[0;34m(\u001b[0m\u001b[0moutput_dim\u001b[0m\u001b[0;34m=\u001b[0m\u001b[0mhidden_size\u001b[0m\u001b[0;34m,\u001b[0m \u001b[0mreturn_sequences\u001b[0m \u001b[0;34m=\u001b[0m \u001b[0;32mTrue\u001b[0m\u001b[0;34m)\u001b[0m\u001b[0;34m)\u001b[0m\u001b[0;34m\u001b[0m\u001b[0m\n\u001b[1;32m      6\u001b[0m     \u001b[0mmodel\u001b[0m\u001b[0;34m.\u001b[0m\u001b[0madd\u001b[0m\u001b[0;34m(\u001b[0m\u001b[0mLSTM\u001b[0m\u001b[0;34m(\u001b[0m\u001b[0moutput_dim\u001b[0m\u001b[0;34m=\u001b[0m\u001b[0mhidden_size\u001b[0m\u001b[0;34m)\u001b[0m\u001b[0;34m)\u001b[0m\u001b[0;34m\u001b[0m\u001b[0m\n",
      "\u001b[0;31mTypeError\u001b[0m: __init__() got an unexpected keyword argument 'output_dim'"
     ]
    }
   ],
   "source": [
    "def build_model(inp_shape=(48,6), hidden_size = 150, out_size = 1):\n",
    "\n",
    "    model = Sequential()\n",
    "    model.add(LSTM(output_dim=hidden_size, input_shape=inp_shape, return_sequences = True))\n",
    "    model.add(LSTM(output_dim=hidden_size, return_sequences = True))\n",
    "    model.add(LSTM(output_dim=hidden_size))\n",
    "    model.add(Dense(1))\n",
    "    return model\n",
    "\n",
    "model = build_model()"
   ]
  },
  {
   "cell_type": "code",
   "execution_count": 25,
   "metadata": {
    "collapsed": true
   },
   "outputs": [],
   "source": [
    "from bigdl.util.common import *\n",
    "from bigdl.optim.optimizer import *\n",
    "from bigdl.nn.criterion import *\n"
   ]
  },
  {
   "cell_type": "code",
   "execution_count": 21,
   "metadata": {
    "collapsed": true
   },
   "outputs": [],
   "source": [
    "spark.catalog.clearCache()"
   ]
  },
  {
   "cell_type": "code",
   "execution_count": 76,
   "metadata": {},
   "outputs": [
    {
     "name": "stdout",
     "output_type": "stream",
     "text": [
      "creating: createSequential\n",
      "creating: createRecurrent\n",
      "creating: createTanh\n",
      "creating: createSigmoid\n",
      "creating: createLSTM\n",
      "creating: createInferReshape\n",
      "creating: createSelect\n",
      "creating: createLinear\n"
     ]
    }
   ],
   "source": [
    "from bigdl.nn.layer import *\n",
    "\n",
    "def build_model(input_size, hidden_size, output_size):\n",
    "    model = Sequential()\n",
    "    rec1 = Recurrent()\n",
    "    rec1.add(LSTM(input_size, hidden_size))\n",
    "    model.add(InferReshape([-1, input_size], True))\n",
    "    model.add(rec1)\n",
    "    model.add(Select(2, -1))\n",
    "    model.add(Linear(hidden_size, output_size))\n",
    "    return model\n",
    "model = build_model(48, 300, 1)"
   ]
  },
  {
   "cell_type": "code",
   "execution_count": 69,
   "metadata": {},
   "outputs": [
    {
     "name": "stdout",
     "output_type": "stream",
     "text": [
      "creating: createSequential\n",
      "creating: createRecurrent\n",
      "creating: createTanh\n",
      "creating: createSigmoid\n",
      "creating: createLSTM\n",
      "creating: createInferReshape\n",
      "creating: createRecurrent\n",
      "creating: createTanh\n",
      "creating: createSigmoid\n",
      "creating: createLSTM\n",
      "creating: createRecurrent\n",
      "creating: createTanh\n",
      "creating: createSigmoid\n",
      "creating: createLSTM\n",
      "creating: createSelect\n",
      "creating: createLinear\n"
     ]
    }
   ],
   "source": [
    "# def build_model(input_size, hidden_size, output_size):\n",
    "#     model = Sequential()\n",
    "#     rec1 = Recurrent()\n",
    "#     rec1.add(LSTM(input_size, hidden_size))\n",
    "#     model.add(InferReshape([-1, input_size], True))\n",
    "#     model.add(rec1)\n",
    "#     rec2 = Recurrent()\n",
    "#     rec2.add(LSTM(hidden_size, hidden_size))\n",
    "#     model.add(rec2)\n",
    "#     rec3 = Recurrent()\n",
    "#     rec3.add(LSTM(hidden_size, hidden_size))\n",
    "#     model.add(rec3)\n",
    "#     model.add(Select(2, -1))\n",
    "#     model.add(Linear(hidden_size, output_size))\n",
    "#     return model\n",
    "# model = build_model(48, 300, 1)"
   ]
  },
  {
   "cell_type": "code",
   "execution_count": 77,
   "metadata": {
    "collapsed": true
   },
   "outputs": [],
   "source": [
    "from bigdl.util.common import to_sample_rdd\n",
    "train_data_num = to_sample_rdd(num_data_train, y_train)\n",
    "test_data_num = to_sample_rdd(num_data_test, y_test)\n",
    "train_data = to_sample_rdd(X_train, y_train)\n",
    "test_data = to_sample_rdd(X_test, y_test)"
   ]
  },
  {
   "cell_type": "code",
   "execution_count": 78,
   "metadata": {
    "collapsed": true
   },
   "outputs": [],
   "source": [
    "show_bigdl_info_logs()\n",
    "redire_spark_logs()"
   ]
  },
  {
   "cell_type": "code",
   "execution_count": 79,
   "metadata": {
    "scrolled": false
   },
   "outputs": [
    {
     "name": "stdout",
     "output_type": "stream",
     "text": [
      "creating: createMSECriterion\n",
      "creating: createAdam\n",
      "creating: createMaxEpoch\n",
      "creating: createDistriOptimizer\n",
      "creating: createEveryEpoch\n",
      "creating: createMSECriterion\n",
      "creating: createLoss\n"
     ]
    },
    {
     "name": "stderr",
     "output_type": "stream",
     "text": [
      "/home/dyllanjr/anaconda3/envs/solarenv/lib/python3.6/site-packages/bigdl/optim/optimizer.py:864: UserWarning: You are recommended to use `create` method to create an optimizer.\n",
      "  warnings.warn(\"You are recommended to use `create` method to create an optimizer.\")\n"
     ]
    },
    {
     "name": "stdout",
     "output_type": "stream",
     "text": [
      "creating: createEveryEpoch\n"
     ]
    },
    {
     "data": {
      "text/plain": [
       "<bigdl.nn.layer.Sequential at 0x7f8d646a0278>"
      ]
     },
     "execution_count": 79,
     "metadata": {},
     "output_type": "execute_result"
    }
   ],
   "source": [
    "optimizer = Optimizer(\n",
    "    model = model,\n",
    "    training_rdd = train_data,\n",
    "    criterion = MSECriterion(),\n",
    "    optim_method = Adam(),\n",
    "    end_trigger = MaxEpoch(200),\n",
    "    batch_size=48)\n",
    "\n",
    "optimizer.set_validation(\n",
    "    batch_size=48,\n",
    "    val_rdd=test_data,\n",
    "    trigger=EveryEpoch(),\n",
    "    val_method=[Loss(MSECriterion())]\n",
    ")\n",
    "\n",
    "optimizer.set_checkpoint(EveryEpoch(), '/home/dyllanjr/Solar_Irradiance_Prediction/models')\n",
    "\n",
    "optimizer.optimize()\n",
    "#This took 4.5 hours!\n",
    "#I'm going to switch to Keras to finish the project."
   ]
  },
  {
   "cell_type": "code",
   "execution_count": 80,
   "metadata": {},
   "outputs": [
    {
     "name": "stdout",
     "output_type": "stream",
     "text": [
      "creating: createMSECriterion\n",
      "creating: createLoss\n"
     ]
    }
   ],
   "source": [
    "test_results = model.evaluate(test_data_num, 18, [Loss(MSECriterion())])"
   ]
  },
  {
   "cell_type": "code",
   "execution_count": 81,
   "metadata": {
    "scrolled": true
   },
   "outputs": [
    {
     "name": "stdout",
     "output_type": "stream",
     "text": [
      "Evaluated result: 32194012.0, total_num: 1459, method: Loss\n"
     ]
    }
   ],
   "source": [
    "print(test_results[0])"
   ]
  },
  {
   "cell_type": "code",
   "execution_count": 52,
   "metadata": {},
   "outputs": [
    {
     "data": {
      "text/plain": [
       "10205.454619956918"
      ]
     },
     "execution_count": 52,
     "metadata": {},
     "output_type": "execute_result"
    }
   ],
   "source": [
    "np.sqrt(104151304)"
   ]
  },
  {
   "cell_type": "code",
   "execution_count": 82,
   "metadata": {},
   "outputs": [
    {
     "data": {
      "text/plain": [
       "5673.976735941028"
      ]
     },
     "execution_count": 82,
     "metadata": {},
     "output_type": "execute_result"
    }
   ],
   "source": [
    "np.sqrt(32194012)"
   ]
  },
  {
   "cell_type": "markdown",
   "metadata": {},
   "source": [
    "### Note\n",
    "#### Unfortunately, I couldn't get this one layer 300 hidden unit LSTM network to perform well. I suspect two issues:\n",
    "- The framework of BigDL doesn't support Embbeding layers combined with LSTM layers\n",
    "- The framework of Big DL doesn't support multiple LSTM layers\n",
    "    - Missing return_sequences = True param in LSTM()"
   ]
  },
  {
   "cell_type": "code",
   "execution_count": null,
   "metadata": {},
   "outputs": [],
   "source": [
    "def run_optimizer(model, epochs = 200, optim_method = Adam())\n",
    "optimizer = Optimizer(\n",
    "    model = model,\n",
    "    training_rdd = train_data,\n",
    "    criterion = MSECriterion(),\n",
    "    optim_method = optim_method,\n",
    "    end_trigger = MaxEpoch(epochs),\n",
    "    batch_size=48)\n",
    "\n",
    "optimizer.set_validation(\n",
    "    batch_size=48,\n",
    "    val_rdd=test_data,\n",
    "    trigger=EveryEpoch(),\n",
    "    val_method=[Loss(MSECriterion())]\n",
    ")\n",
    "\n",
    "optimizer.set_checkpoint(EveryEpoch(), '/home/dyllanjr/Solar_Irradiance_Prediction/models')\n",
    "\n",
    "optimizer.optimize()"
   ]
  },
  {
   "cell_type": "code",
   "execution_count": null,
   "metadata": {
    "collapsed": true
   },
   "outputs": [],
   "source": []
  }
 ],
 "metadata": {
  "kernelspec": {
   "display_name": "Python 3",
   "language": "python",
   "name": "python3"
  },
  "language_info": {
   "codemirror_mode": {
    "name": "ipython",
    "version": 3
   },
   "file_extension": ".py",
   "mimetype": "text/x-python",
   "name": "python",
   "nbconvert_exporter": "python",
   "pygments_lexer": "ipython3",
   "version": "3.8.5"
  }
 },
 "nbformat": 4,
 "nbformat_minor": 2
}
