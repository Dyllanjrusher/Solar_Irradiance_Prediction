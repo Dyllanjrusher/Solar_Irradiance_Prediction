{
 "cells": [
  {
   "cell_type": "markdown",
   "metadata": {},
   "source": [
    "## Feature Engineering\n",
    "\n",
    "#### Baseline model features:\n",
    "    - each row represents a day of data, where each category of feature has 24 columns corresponding to 24 hours in a day\n",
    "    \n",
    "#### RNN/LSTM model features:\n",
    "    - Engineered 3d data corresponding to (batch_size, time_steps, input_dim)"
   ]
  },
  {
   "cell_type": "code",
   "execution_count": 5,
   "metadata": {},
   "outputs": [
    {
     "name": "stdout",
     "output_type": "stream",
     "text": [
      "Prepending /home/dyllanjr/anaconda3/envs/solarenv/lib/python3.6/site-packages/bigdl/share/conf/spark-bigdl.conf to sys.path\n"
     ]
    }
   ],
   "source": [
    "try:\n",
    "    sc.stop()\n",
    "except:\n",
    "    pass\n",
    "from pyspark import SparkContext\n",
    "from bigdl.util.common import *\n",
    "\n",
    "\n",
    "# create sparkcontext with bigdl configuration\n",
    "sc = SparkContext.getOrCreate(conf=create_spark_conf().setMaster(\"local[*]\"))\n",
    "from pyspark.sql import SparkSession\n",
    "spark = SparkSession(sparkContext = sc)\n",
    "spark.conf.set(\"spark.sql.session.timeZone\", \"UTC\")\n",
    "\n",
    "import seaborn as sns\n",
    "import scipy\n",
    "import matplotlib.pyplot as plt\n",
    "import pandas as pd\n",
    "%matplotlib inline\n",
    "\n",
    "df = spark.read.csv(f\"hdfs://localhost:9000/solar_data/interim/Arkansas_interim.csv\", inferSchema=True, header=True)"
   ]
  },
  {
   "cell_type": "code",
   "execution_count": 2,
   "metadata": {},
   "outputs": [
    {
     "name": "stdout",
     "output_type": "stream",
     "text": [
      "root\n",
      " |-- Year: integer (nullable = true)\n",
      " |-- Month: integer (nullable = true)\n",
      " |-- Day: integer (nullable = true)\n",
      " |-- Hour: integer (nullable = true)\n",
      " |-- Minute: integer (nullable = true)\n",
      " |-- Cloud Type: integer (nullable = true)\n",
      " |-- Dew Point: integer (nullable = true)\n",
      " |-- Fill Flag: integer (nullable = true)\n",
      " |-- Wind Speed: double (nullable = true)\n",
      " |-- Surface Albedo: double (nullable = true)\n",
      " |-- Temperature: integer (nullable = true)\n",
      " |-- Solar Zenith Angle: double (nullable = true)\n",
      " |-- Wind Direction: double (nullable = true)\n",
      " |-- GHI: integer (nullable = true)\n",
      " |-- timestamp: timestamp (nullable = true)\n",
      "\n"
     ]
    }
   ],
   "source": [
    "df.printSchema()"
   ]
  },
  {
   "cell_type": "code",
   "execution_count": 3,
   "metadata": {},
   "outputs": [
    {
     "name": "stdout",
     "output_type": "stream",
     "text": [
      "+------+\n",
      "|minute|\n",
      "+------+\n",
      "|    30|\n",
      "|     0|\n",
      "+------+\n",
      "\n"
     ]
    }
   ],
   "source": [
    "df.select('minute').distinct().show()"
   ]
  },
  {
   "cell_type": "code",
   "execution_count": 9,
   "metadata": {
    "collapsed": true
   },
   "outputs": [],
   "source": [
    "from pyspark.sql import functions as F"
   ]
  },
  {
   "cell_type": "code",
   "execution_count": 61,
   "metadata": {
    "collapsed": true
   },
   "outputs": [],
   "source": [
    "#The predicted column will be the sum of GHI for every half hour in the day\n",
    "#the average daily Wh/M^2 is around 4000, so these summed GHI values make sense.\n",
    "ghi_df = (df.groupby(F.year(F.col('timestamp')).alias('year'),\n",
    "            F.month(F.col('timestamp')).alias('month'), \n",
    "            F.dayofmonth(F.col('timestamp')).alias('day'))\n",
    "     .sum('GHI')\n",
    ")"
   ]
  },
  {
   "cell_type": "code",
   "execution_count": 51,
   "metadata": {
    "collapsed": true
   },
   "outputs": [],
   "source": [
    "###We want each row to contain information about every hour of the day\n",
    "#Note that the data is every half hour, but I'll be simplifying to every hour for implementation's sake.\n",
    "#What I have to do is pivot where my index is the unique year/month/day combination\n",
    "#the columns to pivot will be hour and minute\n",
    "#the values will be \n",
    "cols = ['Cloud Type', 'Dew Point', 'Wind Speed', 'Surface Albedo', 'Temperature', 'Solar Zenith Angle', 'Wind Direction']"
   ]
  },
  {
   "cell_type": "code",
   "execution_count": 52,
   "metadata": {
    "collapsed": true
   },
   "outputs": [],
   "source": [
    "def rename_cols(feature, df):\n",
    "    for hour in range(0, 24):\n",
    "        df = df.withColumnRenamed(str(hour), feature.replace(' ', '_')+'_'+str(hour))\n",
    "    return df\n",
    "\n",
    "def generate_feature_pivot(feature, df):\n",
    "    pivoted_df = (df.groupby(F.year(F.col('timestamp')).alias('year'),\n",
    "                        F.month(F.col('timestamp')).alias('month'), \n",
    "                        F.dayofmonth(F.col('timestamp')).alias('day'))\n",
    "                 .pivot('Hour')\n",
    "                 .agg(F.first(feature)) #There will  be two values in this group, the first is right on the hour\n",
    "            )\n",
    "    pivoted_df = rename_cols(feature=feature, df=pivoted_df)\n",
    "    return pivoted_df"
   ]
  },
  {
   "cell_type": "code",
   "execution_count": 53,
   "metadata": {},
   "outputs": [
    {
     "name": "stdout",
     "output_type": "stream",
     "text": [
      "0\n",
      "1\n",
      "2\n",
      "3\n",
      "4\n",
      "5\n",
      "6\n"
     ]
    }
   ],
   "source": [
    "#take a count of each pivot and final join to see if inner join lost any rows.\n",
    "counts = []\n",
    "for ix, col in enumerate(cols):\n",
    "    if ix == 0:\n",
    "        joined = generate_feature_pivot(feature=col, df=df)\n",
    "        counts.append(joined.count())\n",
    "        #to keep track of progress\n",
    "        print(ix)\n",
    "    else:\n",
    "        joined2 = generate_feature_pivot(feature=col, df=df)\n",
    "        counts.append(joined2.count())\n",
    "        joined = joined.join(joined2, on=['year', 'month', 'day'])\n",
    "        print(ix)"
   ]
  },
  {
   "cell_type": "code",
   "execution_count": 59,
   "metadata": {
    "collapsed": true
   },
   "outputs": [
    {
     "name": "stdout",
     "output_type": "stream",
     "text": [
      "+----+-----+---+------------+------------+------------+------------+------------+------------+------------+------------+------------+------------+-------------+-------------+-------------+-------------+-------------+-------------+-------------+-------------+-------------+-------------+-------------+-------------+-------------+-------------+-----------+-----------+-----------+-----------+-----------+-----------+-----------+-----------+-----------+-----------+------------+------------+------------+------------+------------+------------+------------+------------+------------+------------+------------+------------+------------+------------+------------+------------+------------+------------+------------+------------+------------+------------+------------+------------+-------------+------------------+-------------+------------------+------------------+-------------+-------------+------------------+------------------+-------------+------------------+------------------+-------------+-------------+-------------------+-------------------+-------------------+-------------------+-------------------+-------------------+-------------------+-------------------+-------------------+-------------------+-------------------+-------------------+-------------------+-------------------+-------------------+-------------------+-------------------+-------------------+-------------------+-------------------+-------------------+-------------------+-------------------+-------------------+-------------+-------------+-------------+-------------+-------------+-------------+-------------+-------------+-------------+-------------+--------------+--------------+--------------+--------------+--------------+--------------+--------------+--------------+--------------+--------------+--------------+--------------+--------------+--------------+--------------------+--------------------+--------------------+--------------------+--------------------+--------------------+--------------------+--------------------+--------------------+--------------------+---------------------+---------------------+---------------------+---------------------+---------------------+---------------------+---------------------+---------------------+---------------------+---------------------+---------------------+---------------------+---------------------+---------------------+----------------+----------------+----------------+----------------+----------------+----------------+----------------+----------------+----------------+----------------+-----------------+-----------------+-----------------+------------------+-----------------+-----------------+-----------------+-----------------+-----------------+-----------------+-----------------+-----------------+-----------------+-----------------+\n",
      "|year|month|day|Cloud_Type_0|Cloud_Type_1|Cloud_Type_2|Cloud_Type_3|Cloud_Type_4|Cloud_Type_5|Cloud_Type_6|Cloud_Type_7|Cloud_Type_8|Cloud_Type_9|Cloud_Type_10|Cloud_Type_11|Cloud_Type_12|Cloud_Type_13|Cloud_Type_14|Cloud_Type_15|Cloud_Type_16|Cloud_Type_17|Cloud_Type_18|Cloud_Type_19|Cloud_Type_20|Cloud_Type_21|Cloud_Type_22|Cloud_Type_23|Dew_Point_0|Dew_Point_1|Dew_Point_2|Dew_Point_3|Dew_Point_4|Dew_Point_5|Dew_Point_6|Dew_Point_7|Dew_Point_8|Dew_Point_9|Dew_Point_10|Dew_Point_11|Dew_Point_12|Dew_Point_13|Dew_Point_14|Dew_Point_15|Dew_Point_16|Dew_Point_17|Dew_Point_18|Dew_Point_19|Dew_Point_20|Dew_Point_21|Dew_Point_22|Dew_Point_23|Wind_Speed_0|Wind_Speed_1|Wind_Speed_2|Wind_Speed_3|Wind_Speed_4|Wind_Speed_5|Wind_Speed_6|Wind_Speed_7|Wind_Speed_8|Wind_Speed_9|Wind_Speed_10|     Wind_Speed_11|Wind_Speed_12|     Wind_Speed_13|     Wind_Speed_14|Wind_Speed_15|Wind_Speed_16|     Wind_Speed_17|     Wind_Speed_18|Wind_Speed_19|     Wind_Speed_20|     Wind_Speed_21|Wind_Speed_22|Wind_Speed_23|   Surface_Albedo_0|   Surface_Albedo_1|   Surface_Albedo_2|   Surface_Albedo_3|   Surface_Albedo_4|   Surface_Albedo_5|   Surface_Albedo_6|   Surface_Albedo_7|   Surface_Albedo_8|   Surface_Albedo_9|  Surface_Albedo_10|  Surface_Albedo_11|  Surface_Albedo_12|  Surface_Albedo_13|  Surface_Albedo_14|  Surface_Albedo_15|  Surface_Albedo_16|  Surface_Albedo_17|  Surface_Albedo_18|  Surface_Albedo_19|  Surface_Albedo_20|  Surface_Albedo_21|  Surface_Albedo_22|  Surface_Albedo_23|Temperature_0|Temperature_1|Temperature_2|Temperature_3|Temperature_4|Temperature_5|Temperature_6|Temperature_7|Temperature_8|Temperature_9|Temperature_10|Temperature_11|Temperature_12|Temperature_13|Temperature_14|Temperature_15|Temperature_16|Temperature_17|Temperature_18|Temperature_19|Temperature_20|Temperature_21|Temperature_22|Temperature_23|Solar_Zenith_Angle_0|Solar_Zenith_Angle_1|Solar_Zenith_Angle_2|Solar_Zenith_Angle_3|Solar_Zenith_Angle_4|Solar_Zenith_Angle_5|Solar_Zenith_Angle_6|Solar_Zenith_Angle_7|Solar_Zenith_Angle_8|Solar_Zenith_Angle_9|Solar_Zenith_Angle_10|Solar_Zenith_Angle_11|Solar_Zenith_Angle_12|Solar_Zenith_Angle_13|Solar_Zenith_Angle_14|Solar_Zenith_Angle_15|Solar_Zenith_Angle_16|Solar_Zenith_Angle_17|Solar_Zenith_Angle_18|Solar_Zenith_Angle_19|Solar_Zenith_Angle_20|Solar_Zenith_Angle_21|Solar_Zenith_Angle_22|Solar_Zenith_Angle_23|Wind_Direction_0|Wind_Direction_1|Wind_Direction_2|Wind_Direction_3|Wind_Direction_4|Wind_Direction_5|Wind_Direction_6|Wind_Direction_7|Wind_Direction_8|Wind_Direction_9|Wind_Direction_10|Wind_Direction_11|Wind_Direction_12| Wind_Direction_13|Wind_Direction_14|Wind_Direction_15|Wind_Direction_16|Wind_Direction_17|Wind_Direction_18|Wind_Direction_19|Wind_Direction_20|Wind_Direction_21|Wind_Direction_22|Wind_Direction_23|\n",
      "+----+-----+---+------------+------------+------------+------------+------------+------------+------------+------------+------------+------------+-------------+-------------+-------------+-------------+-------------+-------------+-------------+-------------+-------------+-------------+-------------+-------------+-------------+-------------+-----------+-----------+-----------+-----------+-----------+-----------+-----------+-----------+-----------+-----------+------------+------------+------------+------------+------------+------------+------------+------------+------------+------------+------------+------------+------------+------------+------------+------------+------------+------------+------------+------------+------------+------------+------------+------------+-------------+------------------+-------------+------------------+------------------+-------------+-------------+------------------+------------------+-------------+------------------+------------------+-------------+-------------+-------------------+-------------------+-------------------+-------------------+-------------------+-------------------+-------------------+-------------------+-------------------+-------------------+-------------------+-------------------+-------------------+-------------------+-------------------+-------------------+-------------------+-------------------+-------------------+-------------------+-------------------+-------------------+-------------------+-------------------+-------------+-------------+-------------+-------------+-------------+-------------+-------------+-------------+-------------+-------------+--------------+--------------+--------------+--------------+--------------+--------------+--------------+--------------+--------------+--------------+--------------+--------------+--------------+--------------+--------------------+--------------------+--------------------+--------------------+--------------------+--------------------+--------------------+--------------------+--------------------+--------------------+---------------------+---------------------+---------------------+---------------------+---------------------+---------------------+---------------------+---------------------+---------------------+---------------------+---------------------+---------------------+---------------------+---------------------+----------------+----------------+----------------+----------------+----------------+----------------+----------------+----------------+----------------+----------------+-----------------+-----------------+-----------------+------------------+-----------------+-----------------+-----------------+-----------------+-----------------+-----------------+-----------------+-----------------+-----------------+-----------------+\n",
      "|1998|    1| 10|           4|           4|           4|           4|           4|           4|           4|           4|           4|           4|            4|            4|            4|            4|            4|            4|            4|            4|            4|            4|            8|            4|            4|            4|          2|          2|          2|          1|          1|          0|          0|          0|          0|          1|           1|           1|           1|           1|           1|           1|           1|           1|           2|           2|           2|           3|           3|           3|         1.0|         1.0|         1.0|         1.0|         1.0|         1.0|         1.0|         0.9|         0.8|         1.0|          1.0|1.2000000000000002|          1.6|2.4000000000000004|2.9000000000000004|          3.1|          3.0|2.8000000000000003|2.4000000000000004|          2.0|1.7000000000000002|1.7000000000000002|          1.5|          1.5|0.11599999999999999|0.11599999999999999|0.11599999999999999|0.11599999999999999|0.11599999999999999|0.11599999999999999|0.11599999999999999|0.11599999999999999|0.11599999999999999|0.11599999999999999|0.11599999999999999|0.11599999999999999|0.11599999999999999|0.11599999999999999|0.11599999999999999|0.11599999999999999|0.11599999999999999|0.11599999999999999|0.11599999999999999|0.11599999999999999|0.11599999999999999|0.11599999999999999|0.11599999999999999|0.11599999999999999|            3|            3|            2|            1|            1|            0|            0|            0|            0|            1|             1|             1|             1|             1|             2|             3|             4|             5|             6|             6|             6|             6|             5|             4|              100.26|              112.03|              124.14|              136.37|              148.41|              159.49|              166.48|              163.03|              152.89|              141.07|               128.86|               116.67|               104.74|                93.28|                82.58|                73.02|                65.14|                59.64|                57.22|                58.27|    62.62000000000001|                69.64|                78.61|                88.91|           205.0|           199.0|           194.4|           198.1|           209.3|           220.9|           230.9|           244.2|           266.7|           299.3|330.9000000000001|            357.1|             13.6|25.200000000000006|             35.2|             45.3|54.40000000000001|             61.3|             67.0|             70.4|             74.0|             76.0|             71.7|             69.9|\n",
      "+----+-----+---+------------+------------+------------+------------+------------+------------+------------+------------+------------+------------+-------------+-------------+-------------+-------------+-------------+-------------+-------------+-------------+-------------+-------------+-------------+-------------+-------------+-------------+-----------+-----------+-----------+-----------+-----------+-----------+-----------+-----------+-----------+-----------+------------+------------+------------+------------+------------+------------+------------+------------+------------+------------+------------+------------+------------+------------+------------+------------+------------+------------+------------+------------+------------+------------+------------+------------+-------------+------------------+-------------+------------------+------------------+-------------+-------------+------------------+------------------+-------------+------------------+------------------+-------------+-------------+-------------------+-------------------+-------------------+-------------------+-------------------+-------------------+-------------------+-------------------+-------------------+-------------------+-------------------+-------------------+-------------------+-------------------+-------------------+-------------------+-------------------+-------------------+-------------------+-------------------+-------------------+-------------------+-------------------+-------------------+-------------+-------------+-------------+-------------+-------------+-------------+-------------+-------------+-------------+-------------+--------------+--------------+--------------+--------------+--------------+--------------+--------------+--------------+--------------+--------------+--------------+--------------+--------------+--------------+--------------------+--------------------+--------------------+--------------------+--------------------+--------------------+--------------------+--------------------+--------------------+--------------------+---------------------+---------------------+---------------------+---------------------+---------------------+---------------------+---------------------+---------------------+---------------------+---------------------+---------------------+---------------------+---------------------+---------------------+----------------+----------------+----------------+----------------+----------------+----------------+----------------+----------------+----------------+----------------+-----------------+-----------------+-----------------+------------------+-----------------+-----------------+-----------------+-----------------+-----------------+-----------------+-----------------+-----------------+-----------------+-----------------+\n",
      "only showing top 1 row\n",
      "\n"
     ]
    }
   ],
   "source": [
    "joined.show(1) #That's alot of columns"
   ]
  },
  {
   "cell_type": "code",
   "execution_count": 62,
   "metadata": {
    "collapsed": true
   },
   "outputs": [],
   "source": [
    "#One last join to get our sum(GHI) target column\n",
    "joined = joined.join(ghi_df, on=['year', 'month', 'day'])"
   ]
  },
  {
   "cell_type": "code",
   "execution_count": 63,
   "metadata": {},
   "outputs": [
    {
     "name": "stdout",
     "output_type": "stream",
     "text": [
      "root\n",
      " |-- year: integer (nullable = true)\n",
      " |-- month: integer (nullable = true)\n",
      " |-- day: integer (nullable = true)\n",
      " |-- Cloud_Type_0: integer (nullable = true)\n",
      " |-- Cloud_Type_1: integer (nullable = true)\n",
      " |-- Cloud_Type_2: integer (nullable = true)\n",
      " |-- Cloud_Type_3: integer (nullable = true)\n",
      " |-- Cloud_Type_4: integer (nullable = true)\n",
      " |-- Cloud_Type_5: integer (nullable = true)\n",
      " |-- Cloud_Type_6: integer (nullable = true)\n",
      " |-- Cloud_Type_7: integer (nullable = true)\n",
      " |-- Cloud_Type_8: integer (nullable = true)\n",
      " |-- Cloud_Type_9: integer (nullable = true)\n",
      " |-- Cloud_Type_10: integer (nullable = true)\n",
      " |-- Cloud_Type_11: integer (nullable = true)\n",
      " |-- Cloud_Type_12: integer (nullable = true)\n",
      " |-- Cloud_Type_13: integer (nullable = true)\n",
      " |-- Cloud_Type_14: integer (nullable = true)\n",
      " |-- Cloud_Type_15: integer (nullable = true)\n",
      " |-- Cloud_Type_16: integer (nullable = true)\n",
      " |-- Cloud_Type_17: integer (nullable = true)\n",
      " |-- Cloud_Type_18: integer (nullable = true)\n",
      " |-- Cloud_Type_19: integer (nullable = true)\n",
      " |-- Cloud_Type_20: integer (nullable = true)\n",
      " |-- Cloud_Type_21: integer (nullable = true)\n",
      " |-- Cloud_Type_22: integer (nullable = true)\n",
      " |-- Cloud_Type_23: integer (nullable = true)\n",
      " |-- Dew_Point_0: integer (nullable = true)\n",
      " |-- Dew_Point_1: integer (nullable = true)\n",
      " |-- Dew_Point_2: integer (nullable = true)\n",
      " |-- Dew_Point_3: integer (nullable = true)\n",
      " |-- Dew_Point_4: integer (nullable = true)\n",
      " |-- Dew_Point_5: integer (nullable = true)\n",
      " |-- Dew_Point_6: integer (nullable = true)\n",
      " |-- Dew_Point_7: integer (nullable = true)\n",
      " |-- Dew_Point_8: integer (nullable = true)\n",
      " |-- Dew_Point_9: integer (nullable = true)\n",
      " |-- Dew_Point_10: integer (nullable = true)\n",
      " |-- Dew_Point_11: integer (nullable = true)\n",
      " |-- Dew_Point_12: integer (nullable = true)\n",
      " |-- Dew_Point_13: integer (nullable = true)\n",
      " |-- Dew_Point_14: integer (nullable = true)\n",
      " |-- Dew_Point_15: integer (nullable = true)\n",
      " |-- Dew_Point_16: integer (nullable = true)\n",
      " |-- Dew_Point_17: integer (nullable = true)\n",
      " |-- Dew_Point_18: integer (nullable = true)\n",
      " |-- Dew_Point_19: integer (nullable = true)\n",
      " |-- Dew_Point_20: integer (nullable = true)\n",
      " |-- Dew_Point_21: integer (nullable = true)\n",
      " |-- Dew_Point_22: integer (nullable = true)\n",
      " |-- Dew_Point_23: integer (nullable = true)\n",
      " |-- Wind_Speed_0: double (nullable = true)\n",
      " |-- Wind_Speed_1: double (nullable = true)\n",
      " |-- Wind_Speed_2: double (nullable = true)\n",
      " |-- Wind_Speed_3: double (nullable = true)\n",
      " |-- Wind_Speed_4: double (nullable = true)\n",
      " |-- Wind_Speed_5: double (nullable = true)\n",
      " |-- Wind_Speed_6: double (nullable = true)\n",
      " |-- Wind_Speed_7: double (nullable = true)\n",
      " |-- Wind_Speed_8: double (nullable = true)\n",
      " |-- Wind_Speed_9: double (nullable = true)\n",
      " |-- Wind_Speed_10: double (nullable = true)\n",
      " |-- Wind_Speed_11: double (nullable = true)\n",
      " |-- Wind_Speed_12: double (nullable = true)\n",
      " |-- Wind_Speed_13: double (nullable = true)\n",
      " |-- Wind_Speed_14: double (nullable = true)\n",
      " |-- Wind_Speed_15: double (nullable = true)\n",
      " |-- Wind_Speed_16: double (nullable = true)\n",
      " |-- Wind_Speed_17: double (nullable = true)\n",
      " |-- Wind_Speed_18: double (nullable = true)\n",
      " |-- Wind_Speed_19: double (nullable = true)\n",
      " |-- Wind_Speed_20: double (nullable = true)\n",
      " |-- Wind_Speed_21: double (nullable = true)\n",
      " |-- Wind_Speed_22: double (nullable = true)\n",
      " |-- Wind_Speed_23: double (nullable = true)\n",
      " |-- Surface_Albedo_0: double (nullable = true)\n",
      " |-- Surface_Albedo_1: double (nullable = true)\n",
      " |-- Surface_Albedo_2: double (nullable = true)\n",
      " |-- Surface_Albedo_3: double (nullable = true)\n",
      " |-- Surface_Albedo_4: double (nullable = true)\n",
      " |-- Surface_Albedo_5: double (nullable = true)\n",
      " |-- Surface_Albedo_6: double (nullable = true)\n",
      " |-- Surface_Albedo_7: double (nullable = true)\n",
      " |-- Surface_Albedo_8: double (nullable = true)\n",
      " |-- Surface_Albedo_9: double (nullable = true)\n",
      " |-- Surface_Albedo_10: double (nullable = true)\n",
      " |-- Surface_Albedo_11: double (nullable = true)\n",
      " |-- Surface_Albedo_12: double (nullable = true)\n",
      " |-- Surface_Albedo_13: double (nullable = true)\n",
      " |-- Surface_Albedo_14: double (nullable = true)\n",
      " |-- Surface_Albedo_15: double (nullable = true)\n",
      " |-- Surface_Albedo_16: double (nullable = true)\n",
      " |-- Surface_Albedo_17: double (nullable = true)\n",
      " |-- Surface_Albedo_18: double (nullable = true)\n",
      " |-- Surface_Albedo_19: double (nullable = true)\n",
      " |-- Surface_Albedo_20: double (nullable = true)\n",
      " |-- Surface_Albedo_21: double (nullable = true)\n",
      " |-- Surface_Albedo_22: double (nullable = true)\n",
      " |-- Surface_Albedo_23: double (nullable = true)\n",
      " |-- Temperature_0: integer (nullable = true)\n",
      " |-- Temperature_1: integer (nullable = true)\n",
      " |-- Temperature_2: integer (nullable = true)\n",
      " |-- Temperature_3: integer (nullable = true)\n",
      " |-- Temperature_4: integer (nullable = true)\n",
      " |-- Temperature_5: integer (nullable = true)\n",
      " |-- Temperature_6: integer (nullable = true)\n",
      " |-- Temperature_7: integer (nullable = true)\n",
      " |-- Temperature_8: integer (nullable = true)\n",
      " |-- Temperature_9: integer (nullable = true)\n",
      " |-- Temperature_10: integer (nullable = true)\n",
      " |-- Temperature_11: integer (nullable = true)\n",
      " |-- Temperature_12: integer (nullable = true)\n",
      " |-- Temperature_13: integer (nullable = true)\n",
      " |-- Temperature_14: integer (nullable = true)\n",
      " |-- Temperature_15: integer (nullable = true)\n",
      " |-- Temperature_16: integer (nullable = true)\n",
      " |-- Temperature_17: integer (nullable = true)\n",
      " |-- Temperature_18: integer (nullable = true)\n",
      " |-- Temperature_19: integer (nullable = true)\n",
      " |-- Temperature_20: integer (nullable = true)\n",
      " |-- Temperature_21: integer (nullable = true)\n",
      " |-- Temperature_22: integer (nullable = true)\n",
      " |-- Temperature_23: integer (nullable = true)\n",
      " |-- Solar_Zenith_Angle_0: double (nullable = true)\n",
      " |-- Solar_Zenith_Angle_1: double (nullable = true)\n",
      " |-- Solar_Zenith_Angle_2: double (nullable = true)\n",
      " |-- Solar_Zenith_Angle_3: double (nullable = true)\n",
      " |-- Solar_Zenith_Angle_4: double (nullable = true)\n",
      " |-- Solar_Zenith_Angle_5: double (nullable = true)\n",
      " |-- Solar_Zenith_Angle_6: double (nullable = true)\n",
      " |-- Solar_Zenith_Angle_7: double (nullable = true)\n",
      " |-- Solar_Zenith_Angle_8: double (nullable = true)\n",
      " |-- Solar_Zenith_Angle_9: double (nullable = true)\n",
      " |-- Solar_Zenith_Angle_10: double (nullable = true)\n",
      " |-- Solar_Zenith_Angle_11: double (nullable = true)\n",
      " |-- Solar_Zenith_Angle_12: double (nullable = true)\n",
      " |-- Solar_Zenith_Angle_13: double (nullable = true)\n",
      " |-- Solar_Zenith_Angle_14: double (nullable = true)\n",
      " |-- Solar_Zenith_Angle_15: double (nullable = true)\n",
      " |-- Solar_Zenith_Angle_16: double (nullable = true)\n",
      " |-- Solar_Zenith_Angle_17: double (nullable = true)\n",
      " |-- Solar_Zenith_Angle_18: double (nullable = true)\n",
      " |-- Solar_Zenith_Angle_19: double (nullable = true)\n",
      " |-- Solar_Zenith_Angle_20: double (nullable = true)\n",
      " |-- Solar_Zenith_Angle_21: double (nullable = true)\n",
      " |-- Solar_Zenith_Angle_22: double (nullable = true)\n",
      " |-- Solar_Zenith_Angle_23: double (nullable = true)\n",
      " |-- Wind_Direction_0: double (nullable = true)\n",
      " |-- Wind_Direction_1: double (nullable = true)\n",
      " |-- Wind_Direction_2: double (nullable = true)\n",
      " |-- Wind_Direction_3: double (nullable = true)\n",
      " |-- Wind_Direction_4: double (nullable = true)\n",
      " |-- Wind_Direction_5: double (nullable = true)\n",
      " |-- Wind_Direction_6: double (nullable = true)\n",
      " |-- Wind_Direction_7: double (nullable = true)\n",
      " |-- Wind_Direction_8: double (nullable = true)\n",
      " |-- Wind_Direction_9: double (nullable = true)\n",
      " |-- Wind_Direction_10: double (nullable = true)\n",
      " |-- Wind_Direction_11: double (nullable = true)\n",
      " |-- Wind_Direction_12: double (nullable = true)\n",
      " |-- Wind_Direction_13: double (nullable = true)\n",
      " |-- Wind_Direction_14: double (nullable = true)\n",
      " |-- Wind_Direction_15: double (nullable = true)\n",
      " |-- Wind_Direction_16: double (nullable = true)\n",
      " |-- Wind_Direction_17: double (nullable = true)\n",
      " |-- Wind_Direction_18: double (nullable = true)\n",
      " |-- Wind_Direction_19: double (nullable = true)\n",
      " |-- Wind_Direction_20: double (nullable = true)\n",
      " |-- Wind_Direction_21: double (nullable = true)\n",
      " |-- Wind_Direction_22: double (nullable = true)\n",
      " |-- Wind_Direction_23: double (nullable = true)\n",
      " |-- sum(GHI): long (nullable = true)\n",
      "\n"
     ]
    }
   ],
   "source": [
    "joined.printSchema()"
   ]
  },
  {
   "cell_type": "code",
   "execution_count": 64,
   "metadata": {},
   "outputs": [
    {
     "data": {
      "text/plain": [
       "172"
      ]
     },
     "execution_count": 64,
     "metadata": {},
     "output_type": "execute_result"
    }
   ],
   "source": [
    "len(joined.columns)"
   ]
  },
  {
   "cell_type": "code",
   "execution_count": 2,
   "metadata": {},
   "outputs": [
    {
     "data": {
      "text/plain": [
       "172"
      ]
     },
     "execution_count": 2,
     "metadata": {},
     "output_type": "execute_result"
    }
   ],
   "source": [
    "24*7+4 #got all the columns"
   ]
  },
  {
   "cell_type": "code",
   "execution_count": 67,
   "metadata": {},
   "outputs": [
    {
     "data": {
      "text/plain": [
       "[7300]"
      ]
     },
     "execution_count": 67,
     "metadata": {},
     "output_type": "execute_result"
    }
   ],
   "source": [
    "counts #didn't lose any from the first join, but I'm not sure why only one element."
   ]
  },
  {
   "cell_type": "code",
   "execution_count": 70,
   "metadata": {
    "collapsed": true
   },
   "outputs": [],
   "source": [
    "#copied from above for ease of copying in future\n",
    "def rename_cols(feature, df):\n",
    "    for hour in range(0, 24):\n",
    "        df = df.withColumnRenamed(str(hour), feature.replace(' ', '_')+'_'+str(hour))\n",
    "    return df\n",
    "\n",
    "def generate_feature_pivot(feature, df):\n",
    "    pivoted_df = (df.groupby(F.year(F.col('timestamp')).alias('year'),\n",
    "                        F.month(F.col('timestamp')).alias('month'), \n",
    "                        F.dayofmonth(F.col('timestamp')).alias('day'))\n",
    "                 .pivot('Hour')\n",
    "                 .agg(F.first(feature)) #There will  be two values in this group, the first is right on the hour\n",
    "            )\n",
    "    pivoted_df = rename_cols(feature=feature, df=pivoted_df)\n",
    "    return pivoted_df\n",
    "\n",
    "#Finally I'll make one big convenience function to do the same with future datasets.\n",
    "def process_data(df):\n",
    "    ghi_df = (df.groupby(F.year(F.col('timestamp')).alias('year'),\n",
    "                F.month(F.col('timestamp')).alias('month'), \n",
    "                F.dayofmonth(F.col('timestamp')).alias('day'))\n",
    "         .sum('GHI')\n",
    "    )\n",
    "    \n",
    "    cols = ['Cloud Type', 'Dew Point', 'Wind Speed', 'Surface Albedo', 'Temperature', 'Solar Zenith Angle', 'Wind Direction']\n",
    "    #take a count of each pivot and final join to see if inner join lost any rows.\n",
    "    counts = []\n",
    "    for ix, col in enumerate(cols):\n",
    "        if ix == 0:\n",
    "            joined = generate_feature_pivot(feature=col, df=df)\n",
    "            counts.append(joined.count())\n",
    "            #to keep track of progress\n",
    "            print(ix)\n",
    "        else:\n",
    "            joined2 = generate_feature_pivot(feature=col, df=df)\n",
    "            counts.append(joined2.count())\n",
    "            joined = joined.join(joined2, on=['year', 'month', 'day'])\n",
    "            print(ix)\n",
    "    joined = joined.join(ghi_df, on=['year', 'month', 'day'])\n",
    "    return joined"
   ]
  },
  {
   "cell_type": "code",
   "execution_count": 72,
   "metadata": {},
   "outputs": [
    {
     "name": "stdout",
     "output_type": "stream",
     "text": [
      "/home/dyllanjr/Solar_Irradiance_Prediction/data/processed\n",
      "0\n",
      "1\n",
      "2\n",
      "3\n",
      "4\n",
      "5\n",
      "6\n",
      "0\n",
      "1\n",
      "2\n",
      "3\n",
      "4\n",
      "5\n",
      "6\n",
      "0\n",
      "1\n",
      "2\n",
      "3\n",
      "4\n",
      "5\n",
      "6\n"
     ]
    }
   ],
   "source": [
    "350400names = ['Arkansas', 'Arizona', 'Georgia']\n",
    "for name in names:\n",
    "    df = spark.read.csv(f\"hdfs://localhost:9000/solar_data/interim/{name}_interim.csv\", inferSchema=True, header=True)\n",
    "    joined = process_data(df)\n",
    "    joined.write.csv(f\"/home/dyllanjr/Solar_Irradiance_Prediction/data/processed/{name}_1.csv\", header=True)"
   ]
  },
  {
   "cell_type": "code",
   "execution_count": 76,
   "metadata": {
    "collapsed": true
   },
   "outputs": [
    {
     "name": "stdout",
     "output_type": "stream",
     "text": [
      "root\n",
      " |-- year: integer (nullable = true)\n",
      " |-- month: integer (nullable = true)\n",
      " |-- day: integer (nullable = true)\n",
      " |-- Cloud_Type_0: integer (nullable = true)\n",
      " |-- Cloud_Type_1: integer (nullable = true)\n",
      " |-- Cloud_Type_2: integer (nullable = true)\n",
      " |-- Cloud_Type_3: integer (nullable = true)\n",
      " |-- Cloud_Type_4: integer (nullable = true)\n",
      " |-- Cloud_Type_5: integer (nullable = true)\n",
      " |-- Cloud_Type_6: integer (nullable = true)\n",
      " |-- Cloud_Type_7: integer (nullable = true)\n",
      " |-- Cloud_Type_8: integer (nullable = true)\n",
      " |-- Cloud_Type_9: integer (nullable = true)\n",
      " |-- Cloud_Type_10: integer (nullable = true)\n",
      " |-- Cloud_Type_11: integer (nullable = true)\n",
      " |-- Cloud_Type_12: integer (nullable = true)\n",
      " |-- Cloud_Type_13: integer (nullable = true)\n",
      " |-- Cloud_Type_14: integer (nullable = true)\n",
      " |-- Cloud_Type_15: integer (nullable = true)\n",
      " |-- Cloud_Type_16: integer (nullable = true)\n",
      " |-- Cloud_Type_17: integer (nullable = true)\n",
      " |-- Cloud_Type_18: integer (nullable = true)\n",
      " |-- Cloud_Type_19: integer (nullable = true)\n",
      " |-- Cloud_Type_20: integer (nullable = true)\n",
      " |-- Cloud_Type_21: integer (nullable = true)\n",
      " |-- Cloud_Type_22: integer (nullable = true)\n",
      " |-- Cloud_Type_23: integer (nullable = true)\n",
      " |-- Dew_Point_0: integer (nullable = true)\n",
      " |-- Dew_Point_1: integer (nullable = true)\n",
      " |-- Dew_Point_2: integer (nullable = true)\n",
      " |-- Dew_Point_3: integer (nullable = true)\n",
      " |-- Dew_Point_4: integer (nullable = true)\n",
      " |-- Dew_Point_5: integer (nullable = true)\n",
      " |-- Dew_Point_6: integer (nullable = true)\n",
      " |-- Dew_Point_7: integer (nullable = true)\n",
      " |-- Dew_Point_8: integer (nullable = true)\n",
      " |-- Dew_Point_9: integer (nullable = true)\n",
      " |-- Dew_Point_10: integer (nullable = true)\n",
      " |-- Dew_Point_11: integer (nullable = true)\n",
      " |-- Dew_Point_12: integer (nullable = true)\n",
      " |-- Dew_Point_13: integer (nullable = true)\n",
      " |-- Dew_Point_14: integer (nullable = true)\n",
      " |-- Dew_Point_15: integer (nullable = true)\n",
      " |-- Dew_Point_16: integer (nullable = true)\n",
      " |-- Dew_Point_17: integer (nullable = true)\n",
      " |-- Dew_Point_18: integer (nullable = true)\n",
      " |-- Dew_Point_19: integer (nullable = true)\n",
      " |-- Dew_Point_20: integer (nullable = true)\n",
      " |-- Dew_Point_21: integer (nullable = true)\n",
      " |-- Dew_Point_22: integer (nullable = true)\n",
      " |-- Dew_Point_23: integer (nullable = true)\n",
      " |-- Wind_Speed_0: double (nullable = true)\n",
      " |-- Wind_Speed_1: double (nullable = true)\n",
      " |-- Wind_Speed_2: double (nullable = true)\n",
      " |-- Wind_Speed_3: double (nullable = true)\n",
      " |-- Wind_Speed_4: double (nullable = true)\n",
      " |-- Wind_Speed_5: double (nullable = true)\n",
      " |-- Wind_Speed_6: double (nullable = true)\n",
      " |-- Wind_Speed_7: double (nullable = true)\n",
      " |-- Wind_Speed_8: double (nullable = true)\n",
      " |-- Wind_Speed_9: double (nullable = true)\n",
      " |-- Wind_Speed_10: double (nullable = true)\n",
      " |-- Wind_Speed_11: double (nullable = true)\n",
      " |-- Wind_Speed_12: double (nullable = true)\n",
      " |-- Wind_Speed_13: double (nullable = true)\n",
      " |-- Wind_Speed_14: double (nullable = true)\n",
      " |-- Wind_Speed_15: double (nullable = true)\n",
      " |-- Wind_Speed_16: double (nullable = true)\n",
      " |-- Wind_Speed_17: double (nullable = true)\n",
      " |-- Wind_Speed_18: double (nullable = true)\n",
      " |-- Wind_Speed_19: double (nullable = true)\n",
      " |-- Wind_Speed_20: double (nullable = true)\n",
      " |-- Wind_Speed_21: double (nullable = true)\n",
      " |-- Wind_Speed_22: double (nullable = true)\n",
      " |-- Wind_Speed_23: double (nullable = true)\n",
      " |-- Surface_Albedo_0: double (nullable = true)\n",
      " |-- Surface_Albedo_1: double (nullable = true)\n",
      " |-- Surface_Albedo_2: double (nullable = true)\n",
      " |-- Surface_Albedo_3: double (nullable = true)\n",
      " |-- Surface_Albedo_4: double (nullable = true)\n",
      " |-- Surface_Albedo_5: double (nullable = true)\n",
      " |-- Surface_Albedo_6: double (nullable = true)\n",
      " |-- Surface_Albedo_7: double (nullable = true)\n",
      " |-- Surface_Albedo_8: double (nullable = true)\n",
      " |-- Surface_Albedo_9: double (nullable = true)\n",
      " |-- Surface_Albedo_10: double (nullable = true)\n",
      " |-- Surface_Albedo_11: double (nullable = true)\n",
      " |-- Surface_Albedo_12: double (nullable = true)\n",
      " |-- Surface_Albedo_13: double (nullable = true)\n",
      " |-- Surface_Albedo_14: double (nullable = true)\n",
      " |-- Surface_Albedo_15: double (nullable = true)\n",
      " |-- Surface_Albedo_16: double (nullable = true)\n",
      " |-- Surface_Albedo_17: double (nullable = true)\n",
      " |-- Surface_Albedo_18: double (nullable = true)\n",
      " |-- Surface_Albedo_19: double (nullable = true)\n",
      " |-- Surface_Albedo_20: double (nullable = true)\n",
      " |-- Surface_Albedo_21: double (nullable = true)\n",
      " |-- Surface_Albedo_22: double (nullable = true)\n",
      " |-- Surface_Albedo_23: double (nullable = true)\n",
      " |-- Temperature_0: integer (nullable = true)\n",
      " |-- Temperature_1: integer (nullable = true)\n",
      " |-- Temperature_2: integer (nullable = true)\n",
      " |-- Temperature_3: integer (nullable = true)\n",
      " |-- Temperature_4: integer (nullable = true)\n",
      " |-- Temperature_5: integer (nullable = true)\n",
      " |-- Temperature_6: integer (nullable = true)\n",
      " |-- Temperature_7: integer (nullable = true)\n",
      " |-- Temperature_8: integer (nullable = true)\n",
      " |-- Temperature_9: integer (nullable = true)\n",
      " |-- Temperature_10: integer (nullable = true)\n",
      " |-- Temperature_11: integer (nullable = true)\n",
      " |-- Temperature_12: integer (nullable = true)\n",
      " |-- Temperature_13: integer (nullable = true)\n",
      " |-- Temperature_14: integer (nullable = true)\n",
      " |-- Temperature_15: integer (nullable = true)\n",
      " |-- Temperature_16: integer (nullable = true)\n",
      " |-- Temperature_17: integer (nullable = true)\n",
      " |-- Temperature_18: integer (nullable = true)\n",
      " |-- Temperature_19: integer (nullable = true)\n",
      " |-- Temperature_20: integer (nullable = true)\n",
      " |-- Temperature_21: integer (nullable = true)\n",
      " |-- Temperature_22: integer (nullable = true)\n",
      " |-- Temperature_23: integer (nullable = true)\n",
      " |-- Solar_Zenith_Angle_0: double (nullable = true)\n",
      " |-- Solar_Zenith_Angle_1: double (nullable = true)\n",
      " |-- Solar_Zenith_Angle_2: double (nullable = true)\n",
      " |-- Solar_Zenith_Angle_3: double (nullable = true)\n",
      " |-- Solar_Zenith_Angle_4: double (nullable = true)\n",
      " |-- Solar_Zenith_Angle_5: double (nullable = true)\n",
      " |-- Solar_Zenith_Angle_6: double (nullable = true)\n",
      " |-- Solar_Zenith_Angle_7: double (nullable = true)\n",
      " |-- Solar_Zenith_Angle_8: double (nullable = true)\n",
      " |-- Solar_Zenith_Angle_9: double (nullable = true)\n",
      " |-- Solar_Zenith_Angle_10: double (nullable = true)\n",
      " |-- Solar_Zenith_Angle_11: double (nullable = true)\n",
      " |-- Solar_Zenith_Angle_12: double (nullable = true)\n",
      " |-- Solar_Zenith_Angle_13: double (nullable = true)\n",
      " |-- Solar_Zenith_Angle_14: double (nullable = true)\n",
      " |-- Solar_Zenith_Angle_15: double (nullable = true)\n",
      " |-- Solar_Zenith_Angle_16: double (nullable = true)\n",
      " |-- Solar_Zenith_Angle_17: double (nullable = true)\n",
      " |-- Solar_Zenith_Angle_18: double (nullable = true)\n",
      " |-- Solar_Zenith_Angle_19: double (nullable = true)\n",
      " |-- Solar_Zenith_Angle_20: double (nullable = true)\n",
      " |-- Solar_Zenith_Angle_21: double (nullable = true)\n",
      " |-- Solar_Zenith_Angle_22: double (nullable = true)\n",
      " |-- Solar_Zenith_Angle_23: double (nullable = true)\n",
      " |-- Wind_Direction_0: double (nullable = true)\n",
      " |-- Wind_Direction_1: double (nullable = true)\n",
      " |-- Wind_Direction_2: double (nullable = true)\n",
      " |-- Wind_Direction_3: double (nullable = true)\n",
      " |-- Wind_Direction_4: double (nullable = true)\n",
      " |-- Wind_Direction_5: double (nullable = true)\n",
      " |-- Wind_Direction_6: double (nullable = true)\n",
      " |-- Wind_Direction_7: double (nullable = true)\n",
      " |-- Wind_Direction_8: double (nullable = true)\n",
      " |-- Wind_Direction_9: double (nullable = true)\n",
      " |-- Wind_Direction_10: double (nullable = true)\n",
      " |-- Wind_Direction_11: double (nullable = true)\n",
      " |-- Wind_Direction_12: double (nullable = true)\n",
      " |-- Wind_Direction_13: double (nullable = true)\n",
      " |-- Wind_Direction_14: double (nullable = true)\n",
      " |-- Wind_Direction_15: double (nullable = true)\n",
      " |-- Wind_Direction_16: double (nullable = true)\n",
      " |-- Wind_Direction_17: double (nullable = true)\n",
      " |-- Wind_Direction_18: double (nullable = true)\n",
      " |-- Wind_Direction_19: double (nullable = true)\n",
      " |-- Wind_Direction_20: double (nullable = true)\n",
      " |-- Wind_Direction_21: double (nullable = true)\n",
      " |-- Wind_Direction_22: double (nullable = true)\n",
      " |-- Wind_Direction_23: double (nullable = true)\n",
      " |-- sum(GHI): long (nullable = true)\n",
      "\n"
     ]
    }
   ],
   "source": [
    "joined.printSchema()"
   ]
  },
  {
   "cell_type": "code",
   "execution_count": 3,
   "metadata": {
    "collapsed": true
   },
   "outputs": [],
   "source": [
    "### RNN/LSTM data preperation\n",
    "#https://stackoverflow.com/questions/57549011/lstm-keras-input-shape-confusion\n",
    "def create_windows(data, window_shape, step = 1, start_id = None, end_id = None):\n",
    "    \n",
    "    data = np.asarray(data)\n",
    "    data = data.reshape(-1,1) if np.prod(data.shape) == max(data.shape) else data\n",
    "        \n",
    "    start_id = 0 if start_id is None else start_id\n",
    "    end_id = data.shape[0] if end_id is None else end_id\n",
    "    \n",
    "    data = data[int(start_id):int(end_id),:]\n",
    "    window_shape = (int(window_shape), data.shape[-1])\n",
    "    step = (int(step),) * data.ndim\n",
    "    slices = tuple(slice(None, None, st) for st in step)\n",
    "    indexing_strides = data[slices].strides\n",
    "    win_indices_shape = ((np.array(data.shape) - window_shape) // step) + 1\n",
    "    \n",
    "    new_shape = tuple(list(win_indices_shape) + list(window_shape))\n",
    "    strides = tuple(list(indexing_strides) + list(data.strides))\n",
    "    \n",
    "    window_data = np.lib.stride_tricks.as_strided(data, shape=new_shape, strides=strides)\n",
    "    \n",
    "    return np.squeeze(window_data, 1)"
   ]
  },
  {
   "cell_type": "code",
   "execution_count": 6,
   "metadata": {},
   "outputs": [],
   "source": [
    "df = spark.read.csv(f\"hdfs://localhost:9000/solar_data/interim/Arkansas_interim.csv\", inferSchema=True, header=True)"
   ]
  },
  {
   "cell_type": "code",
   "execution_count": 14,
   "metadata": {},
   "outputs": [],
   "source": [
    "#Make sure that the dataframe is sorted by timestamp\n",
    "df = df.sort(F.col('timestamp').asc())"
   ]
  },
  {
   "cell_type": "code",
   "execution_count": 21,
   "metadata": {},
   "outputs": [],
   "source": [
    "cols = df.columns\n",
    "cols.remove('Year')\n",
    "cols.remove('Month')\n",
    "cols.remove('Day')\n",
    "cols.remove('Hour')\n",
    "cols.remove('Minute')\n",
    "cols.remove('timestamp')\n",
    "cols.remove('GHI')\n",
    "\n",
    "Xs = df.select(cols).toPandas().as_matrix()\n",
    "ys = df.select('GHI').toPandas().as_matrix()"
   ]
  },
  {
   "cell_type": "code",
   "execution_count": 43,
   "metadata": {},
   "outputs": [],
   "source": [
    "### We want a 48-step ahead forecast (corresponding to one day) with a 48,48*2,48*3-step look-back (corresponding to one/two/three days)\n",
    "look_back = 48\n",
    "look_ahead = 48\n",
    "\n",
    "X_seq = create_windows(Xs, window_shape = look_back, end_id= -look_ahead, step = 48)\n",
    "y_seq = create_windows(ys, window_shape = look_ahead, start_id= look_back, step = 48)\n"
   ]
  },
  {
   "cell_type": "code",
   "execution_count": 39,
   "metadata": {},
   "outputs": [
    {
     "data": {
      "text/plain": [
       "array([7.000e+00, 1.100e+01, 0.000e+00, 4.200e+00, 1.140e-01, 1.200e+01,\n",
       "       9.565e+01, 1.787e+02])"
      ]
     },
     "execution_count": 39,
     "metadata": {},
     "output_type": "execute_result"
    }
   ],
   "source": [
    "X_seq[0][-1]"
   ]
  },
  {
   "cell_type": "code",
   "execution_count": 40,
   "metadata": {},
   "outputs": [
    {
     "data": {
      "text/plain": [
       "array([4.0000e+00, 1.0000e+00, 0.0000e+00, 2.7000e+00, 1.1400e-01,\n",
       "       5.0000e+00, 1.0146e+02, 1.7980e+02])"
      ]
     },
     "execution_count": 40,
     "metadata": {},
     "output_type": "execute_result"
    }
   ],
   "source": [
    "X_seq[1][0]"
   ]
  },
  {
   "cell_type": "code",
   "execution_count": 41,
   "metadata": {},
   "outputs": [
    {
     "data": {
      "text/plain": [
       "7298"
      ]
     },
     "execution_count": 41,
     "metadata": {},
     "output_type": "execute_result"
    }
   ],
   "source": [
    "len(X_seq)"
   ]
  },
  {
   "cell_type": "code",
   "execution_count": 42,
   "metadata": {},
   "outputs": [
    {
     "data": {
      "text/plain": [
       "7300"
      ]
     },
     "execution_count": 42,
     "metadata": {},
     "output_type": "execute_result"
    }
   ],
   "source": [
    "df.groupby(['Day', 'Month', 'Year']).count().count()\n",
    "#This makes sense since we lose one day by looking ahead."
   ]
  },
  {
   "cell_type": "code",
   "execution_count": 47,
   "metadata": {},
   "outputs": [
    {
     "name": "stdout",
     "output_type": "stream",
     "text": [
      "/home/dyllanjr/Solar_Irradiance_Prediction/data/processed\n"
     ]
    }
   ],
   "source": [
    "%cd /home/dyllanjr/Solar_Irradiance_Prediction/data/processed/\n",
    "\n",
    "#I'll save each of them as a .npy file, and paralellize upon loading\n",
    "names = ['Arkansas', 'Arizona', 'Georgia']\n",
    "look_backs = [48, 48*2, 48*3]\n",
    "look_ahead = 48\n",
    "\n",
    "for name in names:\n",
    "    for look_back in look_backs:\n",
    "        df = spark.read.csv(f\"hdfs://localhost:9000/solar_data/interim/{name}_interim.csv\", inferSchema=True, header=True)\n",
    "        #Make sure that the dataframe is sorted by timestamp\n",
    "        df = df.sort(F.col('timestamp').asc())\n",
    "        cols = df.columns\n",
    "        cols.remove('Year')\n",
    "        cols.remove('Month')\n",
    "        cols.remove('Day')\n",
    "        cols.remove('Hour')\n",
    "        cols.remove('Minute')\n",
    "        cols.remove('timestamp')\n",
    "        cols.remove('GHI')\n",
    "\n",
    "        Xs = df.select(cols).toPandas().as_matrix()\n",
    "        ys = df.select('GHI').toPandas().as_matrix()\n",
    "        \n",
    "        X_seq = create_windows(Xs, window_shape = look_back, end_id= -look_ahead, step = 48)\n",
    "        y_seq = create_windows(ys, window_shape = look_ahead, start_id= look_back, step = 48)\n",
    "        \n",
    "        np.savez(f'{name}_look_back_{look_back}', x=X_seq, y=y_seq)"
   ]
  },
  {
   "cell_type": "code",
   "execution_count": 48,
   "metadata": {},
   "outputs": [
    {
     "data": {
      "text/plain": [
       "0"
      ]
     },
     "execution_count": 48,
     "metadata": {},
     "output_type": "execute_result"
    }
   ],
   "source": [
    "import os\n",
    "os.system('hadoop fs -copyFromLocal /home/dyllanjr/Solar_Irradiance_Prediction/data/ /solar_data')"
   ]
  },
  {
   "cell_type": "code",
   "execution_count": null,
   "metadata": {
    "collapsed": true
   },
   "outputs": [],
   "source": []
  }
 ],
 "metadata": {
  "kernelspec": {
   "display_name": "Python 3",
   "language": "python",
   "name": "python3"
  },
  "language_info": {
   "codemirror_mode": {
    "name": "ipython",
    "version": 3
   },
   "file_extension": ".py",
   "mimetype": "text/x-python",
   "name": "python",
   "nbconvert_exporter": "python",
   "pygments_lexer": "ipython3",
   "version": "3.6.3"
  }
 },
 "nbformat": 4,
 "nbformat_minor": 2
}
